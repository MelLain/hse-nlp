{
 "cells": [
  {
   "cell_type": "markdown",
   "metadata": {},
   "source": [
    "# Depencency parsing\n",
    "(парсинг зависимостей)\n",
    "\n",
    "## Что это?\n",
    "\n",
    "* наша цель -- представить предложение естественного языка в виде дерева\n",
    "* слова предложения -- вершины; *зависимости (dependencies)* между ними -- рёбра\n",
    "* зависимости могут быть разными: например, субъект глагола, объект глагола, прилагательное-модификатор, и так далее\n",
    "\n",
    "## Формат\n",
    "\n",
    "Существует несколько форматов записи деревьев зависимостей, но самый популярный и общеиспользуемый -- [CoNLL-U](http://universaldependencies.org/format.html).<br/>\n",
    "Как это выглядит (пример из [русского Universal Dependency трибанка](https://github.com/UniversalDependencies/UD_Russian-SynTagRus)):"
   ]
  },
  {
   "cell_type": "code",
   "execution_count": 1,
   "metadata": {},
   "outputs": [],
   "source": [
    "my_example = \"\"\"\n",
    "# sent_id = 2003Armeniya.xml_138\n",
    "# text = Перспективы развития сферы высоких технологий.\n",
    "1\tПерспективы\tперспектива\tNOUN\t_\tAnimacy=Inan|Case=Nom|Gender=Fem|Number=Plur\t0\troot\t0:root\t_\n",
    "2\tразвития\tразвитие\tNOUN\t_\tAnimacy=Inan|Case=Gen|Gender=Neut|Number=Sing\t1\tnmod\t1:nmod\t_\n",
    "3\tсферы\tсфера\tNOUN\t_\tAnimacy=Inan|Case=Gen|Gender=Fem|Number=Sing\t2\tnmod\t2:nmod\t_\n",
    "4\tвысоких\tвысокий\tADJ\t_\tCase=Gen|Degree=Pos|Number=Plur\t5\tamod\t5:amod\t_\n",
    "5\tтехнологий\tтехнология\tNOUN\t_\tAnimacy=Inan|Case=Gen|Gender=Fem|Number=Plur\t3\tnmod\t3:nmod\tSpaceAfter=No\n",
    "6\t.\t.\tPUNCT\t_\t_\t1\tpunct\t1:punct\t_\n",
    "\"\"\""
   ]
  },
  {
   "cell_type": "markdown",
   "metadata": {},
   "source": [
    "Комментарии + таблица c 9 колонками (разделители табы):\n",
    "* ID\n",
    "* FORM: токен\n",
    "* LEMMA: начальная форма\n",
    "* UPOS: универсальная часть речи\n",
    "* XPOS: лингво-специфичная часть речи\n",
    "* FEATS: морфологическая информация: падеж, род, число etc\n",
    "* HEAD: id ролителя\n",
    "* DEPREL: тип зависимости, то есть отношение к токену-родителю\n",
    "* DEPS: альтернативный подграф (не будем углубляться :))\n",
    "* MISC: всё остальное\n",
    "\n",
    "Отсутствующие данные представляются с помощью `_`. Больше подробностей про формат -- в [официальной документаци](http://universaldependencies.org/format.html).<br>\n",
    "User-friendly визуализация: ![2003Armeniya.xml_138](rus_tree.png)\n",
    "\n",
    "Отрытый инструмент для визуализации, ручной разметки и конвертации в другие форматы: UD Annotatrix. [Online-интерфейс](https://maryszmary.github.io/ud-annotatrix/standalone/annotator.html), [репозиторий](https://github.com/jonorthwash/ud-annotatrix).\n",
    "\n",
    "Трибанк -- много таких предложений. Обычно они разделяются двумя переносами строки.\n",
    "### Как считывать данные в питоне\n",
    "\n",
    "Используем библиотеку [conllu](https://github.com/EmilStenstrom/conllu)."
   ]
  },
  {
   "cell_type": "code",
   "execution_count": 2,
   "metadata": {},
   "outputs": [
    {
     "name": "stdout",
     "output_type": "stream",
     "text": [
      "Requirement already satisfied: conllu in /usr/local/lib/python3.5/dist-packages (0.9)\r\n"
     ]
    }
   ],
   "source": [
    "!pip3 install conllu\n",
    "from conllu import parse"
   ]
  },
  {
   "cell_type": "code",
   "execution_count": 3,
   "metadata": {},
   "outputs": [
    {
     "name": "stdout",
     "output_type": "stream",
     "text": [
      "Help on function parse in module conllu.parser:\n",
      "\n",
      "parse(text, fields=('id', 'form', 'lemma', 'upostag', 'xpostag', 'feats', 'head', 'deprel', 'deps', 'misc'))\n",
      "\n"
     ]
    }
   ],
   "source": [
    "help(parse)"
   ]
  },
  {
   "cell_type": "code",
   "execution_count": 5,
   "metadata": {},
   "outputs": [
    {
     "data": {
      "text/plain": [
       "OrderedDict([('id', 1),\n",
       "             ('form', 'Перспективы'),\n",
       "             ('lemma', 'перспектива'),\n",
       "             ('upostag', 'NOUN'),\n",
       "             ('xpostag', None),\n",
       "             ('feats',\n",
       "              OrderedDict([('Animacy', 'Inan'),\n",
       "                           ('Case', 'Nom'),\n",
       "                           ('Gender', 'Fem'),\n",
       "                           ('Number', 'Plur')])),\n",
       "             ('head', 0),\n",
       "             ('deprel', 'root'),\n",
       "             ('deps', [('root', 0)]),\n",
       "             ('misc', None)])"
      ]
     },
     "execution_count": 5,
     "metadata": {},
     "output_type": "execute_result"
    }
   ],
   "source": [
    "sentences = parse(my_example)\n",
    "sentence = sentences[0]\n",
    "sentence[0]"
   ]
  },
  {
   "cell_type": "code",
   "execution_count": 6,
   "metadata": {},
   "outputs": [
    {
     "data": {
      "text/plain": [
       "OrderedDict([('id', 6),\n",
       "             ('form', '.'),\n",
       "             ('lemma', '.'),\n",
       "             ('upostag', 'PUNCT'),\n",
       "             ('xpostag', None),\n",
       "             ('feats', None),\n",
       "             ('head', 1),\n",
       "             ('deprel', 'punct'),\n",
       "             ('deps', [('punct', 1)]),\n",
       "             ('misc', None)])"
      ]
     },
     "execution_count": 6,
     "metadata": {},
     "output_type": "execute_result"
    }
   ],
   "source": [
    "sentence[-1]"
   ]
  },
  {
   "cell_type": "markdown",
   "metadata": {},
   "source": [
    "## Визуализация\n",
    "\n",
    "В nltk есть DependencyGraph, который умеет рисовать деревья (и ещё многое другое). Для того, чтобы визуализация работала корректно, ему нужна зависимость: graphviz.\n",
    "\n",
    "```\n",
    "sudo apt-get install graphviz\n",
    "pip3 install graphviz\n",
    "```"
   ]
  },
  {
   "cell_type": "code",
   "execution_count": 18,
   "metadata": {},
   "outputs": [],
   "source": [
    "from nltk import DependencyGraph"
   ]
  },
  {
   "cell_type": "markdown",
   "metadata": {},
   "source": [
    "В отличие от `conllu`, `DependencyGraph` не справляется с комментариями, поэтому придётся их убрать."
   ]
  },
  {
   "cell_type": "code",
   "execution_count": 93,
   "metadata": {},
   "outputs": [],
   "source": [
    "sents = []\n",
    "for sent in parsed.split('\\n\\n'):\n",
    "    sent = '\\n'.join([line for line in sent.split('\\n') if not line.startswith('#')])\n",
    "    sents.append(sent)"
   ]
  },
  {
   "cell_type": "code",
   "execution_count": 95,
   "metadata": {},
   "outputs": [
    {
     "name": "stderr",
     "output_type": "stream",
     "text": [
      "/usr/local/lib/python3.5/dist-packages/nltk/parse/dependencygraph.py:380: UserWarning: The graph doesn't contain a node that depends on the root element.\n",
      "  \"The graph doesn't contain a node \"\n"
     ]
    },
    {
     "data": {
      "image/svg+xml": [
       "<?xml version=\"1.0\" encoding=\"UTF-8\" standalone=\"no\"?>\n",
       "<!DOCTYPE svg PUBLIC \"-//W3C//DTD SVG 1.1//EN\"\n",
       " \"http://www.w3.org/Graphics/SVG/1.1/DTD/svg11.dtd\">\n",
       "<!-- Generated by graphviz version 2.38.0 (20140413.2041)\n",
       " -->\n",
       "<!-- Title: G Pages: 1 -->\n",
       "<svg width=\"367pt\" height=\"305pt\"\n",
       " viewBox=\"0.00 0.00 366.50 305.00\" xmlns=\"http://www.w3.org/2000/svg\" xmlns:xlink=\"http://www.w3.org/1999/xlink\">\n",
       "<g id=\"graph0\" class=\"graph\" transform=\"scale(1 1) rotate(0) translate(4 301)\">\n",
       "<title>G</title>\n",
       "<polygon fill=\"white\" stroke=\"none\" points=\"-4,4 -4,-301 362.5,-301 362.5,4 -4,4\"/>\n",
       "<!-- 0 -->\n",
       "<g id=\"node1\" class=\"node\"><title>0</title>\n",
       "<text text-anchor=\"middle\" x=\"185.5\" y=\"-275.3\" font-family=\"Times,serif\" font-size=\"14.00\">0 (None)</text>\n",
       "</g>\n",
       "<!-- 4 -->\n",
       "<g id=\"node2\" class=\"node\"><title>4</title>\n",
       "<text text-anchor=\"middle\" x=\"185.5\" y=\"-188.3\" font-family=\"Times,serif\" font-size=\"14.00\">4 (платили)</text>\n",
       "</g>\n",
       "<!-- 0&#45;&gt;4 -->\n",
       "<g id=\"edge1\" class=\"edge\"><title>0&#45;&gt;4</title>\n",
       "<path fill=\"none\" stroke=\"black\" d=\"M185.5,-260.799C185.5,-249.163 185.5,-233.548 185.5,-220.237\"/>\n",
       "<polygon fill=\"black\" stroke=\"black\" points=\"189,-220.175 185.5,-210.175 182,-220.175 189,-220.175\"/>\n",
       "<text text-anchor=\"middle\" x=\"196.5\" y=\"-231.8\" font-family=\"Times,serif\" font-size=\"14.00\">root</text>\n",
       "</g>\n",
       "<!-- 1 -->\n",
       "<g id=\"node3\" class=\"node\"><title>1</title>\n",
       "<text text-anchor=\"middle\" x=\"32.5\" y=\"-101.3\" font-family=\"Times,serif\" font-size=\"14.00\">1 (Если)</text>\n",
       "</g>\n",
       "<!-- 4&#45;&gt;1 -->\n",
       "<g id=\"edge4\" class=\"edge\"><title>4&#45;&gt;1</title>\n",
       "<path fill=\"none\" stroke=\"black\" d=\"M142.86,-179.81C125.031,-174.125 104.541,-166.225 87.5,-156 75.9157,-149.049 64.6083,-139.422 55.2886,-130.47\"/>\n",
       "<polygon fill=\"black\" stroke=\"black\" points=\"57.5223,-127.755 47.9651,-123.182 52.5846,-132.717 57.5223,-127.755\"/>\n",
       "<text text-anchor=\"middle\" x=\"102\" y=\"-144.8\" font-family=\"Times,serif\" font-size=\"14.00\">mark</text>\n",
       "</g>\n",
       "<!-- 2 -->\n",
       "<g id=\"node4\" class=\"node\"><title>2</title>\n",
       "<text text-anchor=\"middle\" x=\"110.5\" y=\"-101.3\" font-family=\"Times,serif\" font-size=\"14.00\">2 (бы)</text>\n",
       "</g>\n",
       "<!-- 4&#45;&gt;2 -->\n",
       "<g id=\"edge3\" class=\"edge\"><title>4&#45;&gt;2</title>\n",
       "<path fill=\"none\" stroke=\"black\" d=\"M150.452,-173.979C142.783,-169.011 135.249,-162.999 129.5,-156 124.029,-149.34 120.028,-140.937 117.15,-132.931\"/>\n",
       "<polygon fill=\"black\" stroke=\"black\" points=\"120.417,-131.652 114.078,-123.162 113.739,-133.751 120.417,-131.652\"/>\n",
       "<text text-anchor=\"middle\" x=\"155.5\" y=\"-144.8\" font-family=\"Times,serif\" font-size=\"14.00\">discourse</text>\n",
       "</g>\n",
       "<!-- 3 -->\n",
       "<g id=\"node5\" class=\"node\"><title>3</title>\n",
       "<text text-anchor=\"middle\" x=\"185.5\" y=\"-101.3\" font-family=\"Times,serif\" font-size=\"14.00\">3 (мне)</text>\n",
       "</g>\n",
       "<!-- 4&#45;&gt;3 -->\n",
       "<g id=\"edge6\" class=\"edge\"><title>4&#45;&gt;3</title>\n",
       "<path fill=\"none\" stroke=\"black\" d=\"M185.5,-173.799C185.5,-162.163 185.5,-146.548 185.5,-133.237\"/>\n",
       "<polygon fill=\"black\" stroke=\"black\" points=\"189,-133.175 185.5,-123.175 182,-133.175 189,-133.175\"/>\n",
       "<text text-anchor=\"middle\" x=\"196.5\" y=\"-144.8\" font-family=\"Times,serif\" font-size=\"14.00\">iobj</text>\n",
       "</g>\n",
       "<!-- 6 -->\n",
       "<g id=\"node6\" class=\"node\"><title>6</title>\n",
       "<text text-anchor=\"middle\" x=\"259.5\" y=\"-101.3\" font-family=\"Times,serif\" font-size=\"14.00\">6 (раз)</text>\n",
       "</g>\n",
       "<!-- 4&#45;&gt;6 -->\n",
       "<g id=\"edge2\" class=\"edge\"><title>4&#45;&gt;6</title>\n",
       "<path fill=\"none\" stroke=\"black\" d=\"M200.475,-173.799C211.207,-161.471 225.827,-144.679 237.831,-130.89\"/>\n",
       "<polygon fill=\"black\" stroke=\"black\" points=\"240.621,-133.016 244.547,-123.175 235.341,-128.42 240.621,-133.016\"/>\n",
       "<text text-anchor=\"middle\" x=\"250\" y=\"-144.8\" font-family=\"Times,serif\" font-size=\"14.00\">advmod</text>\n",
       "</g>\n",
       "<!-- 7 -->\n",
       "<g id=\"node7\" class=\"node\"><title>7</title>\n",
       "<text text-anchor=\"middle\" x=\"331.5\" y=\"-101.3\" font-family=\"Times,serif\" font-size=\"14.00\">7 (.)</text>\n",
       "</g>\n",
       "<!-- 4&#45;&gt;7 -->\n",
       "<g id=\"edge5\" class=\"edge\"><title>4&#45;&gt;7</title>\n",
       "<path fill=\"none\" stroke=\"black\" d=\"M228.258,-178.243C244.03,-172.603 261.659,-165.15 276.5,-156 288,-148.91 299.291,-139.257 308.623,-130.324\"/>\n",
       "<polygon fill=\"black\" stroke=\"black\" points=\"311.316,-132.582 315.961,-123.06 306.391,-127.607 311.316,-132.582\"/>\n",
       "<text text-anchor=\"middle\" x=\"312\" y=\"-144.8\" font-family=\"Times,serif\" font-size=\"14.00\">punct</text>\n",
       "</g>\n",
       "<!-- 5 -->\n",
       "<g id=\"node8\" class=\"node\"><title>5</title>\n",
       "<text text-anchor=\"middle\" x=\"259.5\" y=\"-14.3\" font-family=\"Times,serif\" font-size=\"14.00\">5 (каждый)</text>\n",
       "</g>\n",
       "<!-- 6&#45;&gt;5 -->\n",
       "<g id=\"edge7\" class=\"edge\"><title>6&#45;&gt;5</title>\n",
       "<path fill=\"none\" stroke=\"black\" d=\"M259.5,-86.799C259.5,-75.1626 259.5,-59.5479 259.5,-46.2368\"/>\n",
       "<polygon fill=\"black\" stroke=\"black\" points=\"263,-46.1754 259.5,-36.1754 256,-46.1755 263,-46.1754\"/>\n",
       "<text text-anchor=\"middle\" x=\"275\" y=\"-57.8\" font-family=\"Times,serif\" font-size=\"14.00\">amod</text>\n",
       "</g>\n",
       "</g>\n",
       "</svg>\n"
      ],
      "text/plain": [
       "<DependencyGraph with 8 nodes>"
      ]
     },
     "execution_count": 95,
     "metadata": {},
     "output_type": "execute_result"
    }
   ],
   "source": [
    "graph = DependencyGraph(tree_str=sents[0])\n",
    "graph"
   ]
  },
  {
   "cell_type": "markdown",
   "metadata": {},
   "source": [
    "## UDPipe\n",
    "\n",
    "Есть разные инструменты для парсинга зависимостей. Сегодня мы будем рабтать с [UDPipe](http://ufal.mff.cuni.cz/udpipe). UDPipe умеет парсить текст с помощью готовых моделей (которые можно скачать [здесь](https://github.com/jwijffels/udpipe.models.ud.2.0/tree/master/inst/udpipe-ud-2.0-170801)) и обучать модели на своих трибанках.\n",
    "\n",
    "Собственно, в UDPipe есть три вида моделей:\n",
    "* токенизатор (разделить предложение не токены, сделать заготовку для CoNLL-U)\n",
    "* тэггер (разметить части речи)\n",
    "* сам парсер (проставить каждому токену `head` и `deprel`)\n",
    "\n",
    "Мы сегодня не будем обучать новых моделей (это слишком долго), а используем готовую модель для русского."
   ]
  },
  {
   "cell_type": "markdown",
   "metadata": {},
   "source": [
    "### The Python binding\n",
    "\n",
    "У udpipe есть питоновская обвязка. Она довольно [плохо задокументирована](https://pypi.org/project/ufal.udpipe/), но зато можно использовать прямо в питоне :)"
   ]
  },
  {
   "cell_type": "code",
   "execution_count": 7,
   "metadata": {},
   "outputs": [
    {
     "name": "stdout",
     "output_type": "stream",
     "text": [
      "Requirement already satisfied: ufal.udpipe in /usr/local/lib/python3.5/dist-packages (1.2.0.1)\r\n"
     ]
    }
   ],
   "source": [
    "!pip3 install ufal.udpipe\n",
    "from ufal.udpipe import Model, Pipeline"
   ]
  },
  {
   "cell_type": "code",
   "execution_count": 8,
   "metadata": {},
   "outputs": [],
   "source": [
    "model = Model.load(\"russian-ud-2.0-170801.udpipe\") # path to the model"
   ]
  },
  {
   "cell_type": "code",
   "execution_count": 34,
   "metadata": {},
   "outputs": [
    {
     "data": {
      "text/plain": [
       "<Swig Object of type 'model *' at 0x7fb174878180>"
      ]
     },
     "execution_count": 34,
     "metadata": {},
     "output_type": "execute_result"
    }
   ],
   "source": [
    "# если успех, должно быть так\n",
    "model"
   ]
  },
  {
   "cell_type": "code",
   "execution_count": 10,
   "metadata": {},
   "outputs": [
    {
     "name": "stdout",
     "output_type": "stream",
     "text": [
      "# newdoc\n",
      "# newpar\n",
      "# sent_id = 1\n",
      "# text = Если бы мне платили каждый раз.\n",
      "1\tЕсли\tЕСЛИ\tSCONJ\tIN\t_\t4\tmark\t_\t_\n",
      "2\tбы\tБЫ\tPART\tRP\t_\t4\tdiscourse\t_\t_\n",
      "3\tмне\tЯ\tPRON\tPRP\tCase=Dat|Number=Sing|Person=1\t4\tiobj\t_\t_\n",
      "4\tплатили\tПЛАТИТЬ\tVERB\tVBC\tAspect=Imp|Mood=Ind|Number=Plur|Tense=Past|VerbForm=Fin\t0\troot\t_\t_\n",
      "5\tкаждый\tКАЖДЫЙ\tDET\tDT\tAnimacy=Inan|Case=Acc|Gender=Masc|Number=Sing\t6\tamod\t_\t_\n",
      "6\tраз\tРАЗ\tNOUN\tNN\tAnimacy=Inan|Case=Acc|Gender=Masc|Number=Sing\t4\tadvmod\t_\tSpaceAfter=No\n",
      "7\t.\t.\tPUNCT\t.\t_\t4\tpunct\t_\t_\n",
      "\n",
      "# sent_id = 2\n",
      "# text = Каждый раз, когда я думаю о тебе.\n",
      "1\tКаждый\tКАЖДЫЙ\tDET\tDT\tAnimacy=Inan|Case=Acc|Gender=Masc|Number=Sing\t2\tamod\t_\t_\n",
      "2\tраз\tРАЗ\tNOUN\tNN\tAnimacy=Inan|Case=Acc|Gender=Masc|Number=Sing\t6\tadvmod\t_\tSpaceAfter=No\n",
      "3\t,\t,\tPUNCT\t,\t_\t6\tpunct\t_\t_\n",
      "4\tкогда\tКОГДА\tADV\tWRB\t_\t6\tadvmod\t_\t_\n",
      "5\tя\tЯ\tPRON\tPRP\tCase=Nom|Number=Sing|Person=1\t6\tnsubj\t_\t_\n",
      "6\tдумаю\tдУМАТЬ\tVERB\tVBC\tAspect=Imp|Mood=Ind|Number=Sing|Person=1|Tense=Pres|VerbForm=Fin\t0\troot\t_\t_\n",
      "7\tо\tО\tADP\tIN\t_\t8\tcase\t_\t_\n",
      "8\tтебе\tТЫ\tPRON\tPRP\tCase=Dat|Number=Sing|Person=2\t6\tobl\t_\tSpaceAfter=No\n",
      "9\t.\t.\tPUNCT\t.\t_\t6\tpunct\t_\tSpacesAfter=\\n\n",
      "\n",
      "\n"
     ]
    }
   ],
   "source": [
    "pipeline = Pipeline(model, 'generic_tokenizer', '', '', '')\n",
    "example = \"Если бы мне платили каждый раз. Каждый раз, когда я думаю о тебе.\"\n",
    "parsed = pipeline.process(example)\n",
    "print(parsed)"
   ]
  },
  {
   "cell_type": "markdown",
   "metadata": {},
   "source": [
    "Как видим, UDPipe и токенизировал, и лематизировал текст, сделал POS-tagging и, собственно, синтаксический парсинг."
   ]
  },
  {
   "cell_type": "markdown",
   "metadata": {},
   "source": [
    "### Command line interface\n",
    "\n",
    "Но с обвязкой бывают проблемы, и вообще довольно удобно пользоваться прекомпилированной утилитой `udpipe` из шелла. Она скачивается [здесь](https://github.com/ufal/udpipe/releases/tag/v1.2.0): (надеюсь, вы уже скачали всё заранее).<br>Внутри бинарники для всех популярных ОС, выбираем свою. У меня путь к бинарнику такой: `~/Documents/udpipe-1.2.0-bin/bin-linux64`.\n",
    "\n",
    "Синтаксис:"
   ]
  },
  {
   "cell_type": "code",
   "execution_count": 11,
   "metadata": {},
   "outputs": [
    {
     "name": "stdout",
     "output_type": "stream",
     "text": [
      "Usage: udpipe [running_opts] model_file [input_files]\r\n",
      "       udpipe --train [training_opts] model_file [input_files]\r\n",
      "       udpipe --detokenize [detokenize_opts] raw_text_file [input_files]\r\n",
      "Running opts: --accuracy (measure accuracy only)\r\n",
      "              --input=[conllu|generic_tokenizer|horizontal|vertical]\r\n",
      "              --immediate (process sentences immediately during loading)\r\n",
      "              --outfile=output file template\r\n",
      "              --output=[conllu|epe|matxin|horizontal|plaintext|vertical]\r\n",
      "              --tokenize (perform tokenization)\r\n",
      "              --tokenizer=tokenizer options, implies --tokenize\r\n",
      "              --tag (perform tagging)\r\n",
      "              --tagger=tagger options, implies --tag\r\n",
      "              --parse (perform parsing)\r\n",
      "              --parser=parser options, implies --parse\r\n",
      "Training opts: --method=[morphodita_parsito] which method to use\r\n",
      "               --heldout=heldout data file name\r\n",
      "               --tokenizer=tokenizer options\r\n",
      "               --tagger=tagger options\r\n",
      "               --parser=parser options\r\n",
      "Detokenize opts: --outfile=output file template\r\n",
      "Generic opts: --version\r\n",
      "              --help\r\n"
     ]
    }
   ],
   "source": [
    "! udpipe"
   ]
  },
  {
   "cell_type": "markdown",
   "metadata": {},
   "source": [
    "Нас сегодня будет интересовать только парсинг, так что типичная команда будет выглядеть так:"
   ]
  },
  {
   "cell_type": "code",
   "execution_count": 12,
   "metadata": {},
   "outputs": [
    {
     "name": "stdout",
     "output_type": "stream",
     "text": [
      "Loading UDPipe model: done.\n",
      "# newdoc id = example.txt\n",
      "# newpar\n",
      "# sent_id = 1\n",
      "# text = Если бы мне платили каждый раз.\n",
      "1\tЕсли\tЕСЛИ\tSCONJ\tIN\t_\t4\tmark\t_\t_\n",
      "2\tбы\tБЫ\tPART\tRP\t_\t4\tdiscourse\t_\t_\n",
      "3\tмне\tЯ\tPRON\tPRP\tCase=Dat|Number=Sing|Person=1\t4\tiobj\t_\t_\n",
      "4\tплатили\tПЛАТИТЬ\tVERB\tVBC\tAspect=Imp|Mood=Ind|Number=Plur|Tense=Past|VerbForm=Fin\t0\troot\t_\t_\n",
      "5\tкаждый\tКАЖДЫЙ\tDET\tDT\tAnimacy=Inan|Case=Acc|Gender=Masc|Number=Sing\t6\tamod\t_\t_\n",
      "6\tраз\tРАЗ\tNOUN\tNN\tAnimacy=Inan|Case=Acc|Gender=Masc|Number=Sing\t4\tadvmod\t_\tSpaceAfter=No\n",
      "7\t.\t.\tPUNCT\t.\t_\t4\tpunct\t_\t_\n",
      "\n",
      "# sent_id = 2\n",
      "# text = Каждый раз, когда я думаю о тебе.\n",
      "1\tКаждый\tКАЖДЫЙ\tDET\tDT\tAnimacy=Inan|Case=Acc|Gender=Masc|Number=Sing\t2\tamod\t_\t_\n",
      "2\tраз\tРАЗ\tNOUN\tNN\tAnimacy=Inan|Case=Acc|Gender=Masc|Number=Sing\t6\tadvmod\t_\tSpaceAfter=No\n",
      "3\t,\t,\tPUNCT\t,\t_\t6\tpunct\t_\t_\n",
      "4\tкогда\tКОГДА\tADV\tWRB\t_\t6\tadvmod\t_\t_\n",
      "5\tя\tЯ\tPRON\tPRP\tCase=Nom|Number=Sing|Person=1\t6\tnsubj\t_\t_\n",
      "6\tдумаю\tдУМАТЬ\tVERB\tVBC\tAspect=Imp|Mood=Ind|Number=Sing|Person=1|Tense=Pres|VerbForm=Fin\t0\troot\t_\t_\n",
      "7\tо\tО\tADP\tIN\t_\t8\tcase\t_\t_\n",
      "8\tтебе\tТЫ\tPRON\tPRP\tCase=Dat|Number=Sing|Person=2\t6\tobl\t_\tSpaceAfter=No\n",
      "9\t.\t.\tPUNCT\t.\t_\t6\tpunct\t_\tSpacesAfter=\\n\n",
      "\n"
     ]
    }
   ],
   "source": [
    "with open('example.txt', 'w') as f:\n",
    "    f.write(example)\n",
    "\n",
    "! udpipe --tokenize --tag --parse russian-ud-2.0-170801.udpipe example.txt > parsed_example.conllu\n",
    "! cat parsed_example.conllu"
   ]
  },
  {
   "cell_type": "markdown",
   "metadata": {},
   "source": [
    "(Ну а потом снова считываем проанализированные предложения питоном).\n",
    "\n",
    "Вот два способа работать с UDPipe. Choose your fighter! "
   ]
  },
  {
   "cell_type": "markdown",
   "metadata": {},
   "source": [
    "## Главред\n",
    "\n",
    "Главред -- [сервис](https://glvrd.ru/) для корекции стиля текста. Кроме интерфейса, у него есть [API](https://glvrd.ru/api/)!<br>\n",
    "На этом семинаре мы имплементируем несколько функций, делающих нечто похожее, на основе синтаксиса.\n",
    "\n",
    "Возьмём простой пример: предложение, перегруженное однородными членами."
   ]
  },
  {
   "cell_type": "code",
   "execution_count": 13,
   "metadata": {},
   "outputs": [
    {
     "name": "stdout",
     "output_type": "stream",
     "text": [
      "# newdoc\n",
      "# newpar\n",
      "# sent_id = 1\n",
      "# text = Я пришла, включила компьютер, открыла почту, прочитала письмо, налила чай.\n",
      "1\tЯ\tЯ\tPRON\tPRP\tCase=Nom|Number=Sing|Person=1\t2\tnsubj\t_\t_\n",
      "2\tпришла\tприИДТИ\tVERB\tVBC\tAspect=Perf|Gender=Fem|Mood=Ind|Number=Sing|Tense=Past|VerbForm=Fin\t0\troot\t_\tSpaceAfter=No\n",
      "3\t,\t,\tPUNCT\t,\t_\t4\tpunct\t_\t_\n",
      "4\tвключила\tвключила\tVERB\tVBC\tAspect=Perf|Gender=Fem|Mood=Ind|Number=Sing|Tense=Past|VerbForm=Fin\t2\tconj\t_\t_\n",
      "5\tкомпьютер\tкомпьютер\tNOUN\tNN\tAnimacy=Anim|Case=Gen|Gender=Fem|Number=Plur\t4\tobj\t_\tSpaceAfter=No\n",
      "6\t,\t,\tPUNCT\t,\t_\t7\tpunct\t_\t_\n",
      "7\tоткрыла\tоткрЫТЬ\tVERB\tVBC\tAspect=Imp|Gender=Fem|Mood=Ind|Number=Sing|Tense=Past|VerbForm=Fin\t4\tconj\t_\t_\n",
      "8\tпочту\tпочТОТ\tNOUN\tNN\tAnimacy=Inan|Case=Acc|Gender=Fem|Number=Sing\t7\tobj\t_\tSpaceAfter=No\n",
      "9\t,\t,\tPUNCT\t,\t_\t10\tpunct\t_\t_\n",
      "10\tпрочитала\tпрочитала\tVERB\tVBC\tAspect=Imp|Gender=Fem|Mood=Ind|Number=Sing|Tense=Past|VerbForm=Fin\t2\tconj\t_\t_\n",
      "11\tписьмо\tПИСЬМО\tNOUN\tNN\tAnimacy=Inan|Case=Acc|Gender=Neut|Number=Sing\t10\tobj\t_\tSpaceAfter=No\n",
      "12\t,\t,\tPUNCT\t,\t_\t13\tpunct\t_\t_\n",
      "13\tналила\tнАЛИЛА\tVERB\tVBC\tAspect=Imp|Gender=Fem|Mood=Ind|Number=Sing|Tense=Past|VerbForm=Fin\t2\tconj\t_\t_\n",
      "14\tчай\tЧАЙ\tNOUN\tNN\tAnimacy=Inan|Case=Acc|Gender=Masc|Number=Sing\t13\tobj\t_\tSpaceAfter=No\n",
      "15\t.\t.\tPUNCT\t.\t_\t2\tpunct\t_\tSpacesAfter=\\n\n",
      "\n",
      "\n"
     ]
    }
   ],
   "source": [
    "conj = 'Я пришла, включила компьютер, открыла почту, прочитала письмо, налила чай.'\n",
    "print(pipeline.process(conj))"
   ]
  },
  {
   "cell_type": "markdown",
   "metadata": {},
   "source": [
    "В таком случае очень много частей предложения, соединённых связью `conj` -- ей обозначаются однородные члены предложения. В таком случае можно просто посчитать количество таких связей:"
   ]
  },
  {
   "cell_type": "code",
   "execution_count": null,
   "metadata": {},
   "outputs": [],
   "source": [
    "def count_conj(sentence):\n",
    "    # your code here"
   ]
  },
  {
   "cell_type": "markdown",
   "metadata": {},
   "source": [
    "Ещё одна проблема, на которую обращают внимание в Главреде -- [парцелляция](http://maximilyahov.ru/blog/all/parcel/). Часто она делает предложения менее читаемыми.\n",
    "\n",
    "По словам Главреда,\n",
    "> Признак парцелляции — предложение синтаксически неполное и само по себе не имеет смысла.\n",
    "\n",
    "Например, в предложении нет субъекта:"
   ]
  },
  {
   "cell_type": "code",
   "execution_count": 35,
   "metadata": {},
   "outputs": [
    {
     "name": "stdout",
     "output_type": "stream",
     "text": [
      "# newdoc\n",
      "# newpar\n",
      "# sent_id = 1\n",
      "# text = Выключил компьютер и заснул.\n",
      "1\tВыключил\tВыключил\tVERB\tVBC\tAspect=Perf|Gender=Masc|Mood=Ind|Number=Sing|Tense=Past|VerbForm=Fin\t0\troot\t_\t_\n",
      "2\tкомпьютер\tкомпьютер\tNOUN\tNN\tAnimacy=Inan|Case=Acc|Gender=Masc|Number=Sing\t1\tobj\t_\t_\n",
      "3\tи\tИ\tCCONJ\tCC\t_\t4\tcc\t_\t_\n",
      "4\tзаснул\tзаснУЛ\tVERB\tVBC\tAspect=Perf|Gender=Masc|Mood=Ind|Number=Sing|Tense=Past|VerbForm=Fin\t1\tconj\t_\tSpaceAfter=No\n",
      "5\t.\t.\tPUNCT\t.\t_\t1\tpunct\t_\tSpacesAfter=\\n\n",
      "\n",
      "\n"
     ]
    }
   ],
   "source": [
    "ex = 'Выключил компьютер и заснул.'\n",
    "print(pipeline.process(ex))"
   ]
  },
  {
   "cell_type": "markdown",
   "metadata": {},
   "source": [
    "Или вообще что-то странное:"
   ]
  },
  {
   "cell_type": "code",
   "execution_count": 45,
   "metadata": {},
   "outputs": [
    {
     "name": "stdout",
     "output_type": "stream",
     "text": [
      "# newdoc\n",
      "# newpar\n",
      "# sent_id = 1\n",
      "# text = А броско, шикарно и выделяля бы вас из толпы\n",
      "1\tА\tА\tCCONJ\tCC\t_\t2\tcc:preconj\t_\t_\n",
      "2\tброско\tброско\tNOUN\tNN\tAnimacy=Inan|Case=Acc|Gender=Neut|Number=Sing\t0\troot\t_\tSpaceAfter=No\n",
      "3\t,\t,\tPUNCT\t,\t_\t4\tpunct\t_\t_\n",
      "4\tшикарно\tшикаРНО\tADV\tRB\t_\t2\tconj\t_\t_\n",
      "5\tи\tИ\tCCONJ\tCC\t_\t6\tcc\t_\t_\n",
      "6\tвыделяля\tвыделяля\tADP\tIN\t_\t8\tcase\t_\t_\n",
      "7\tбы\tБЫ\tPART\tRP\t_\t8\tdiscourse\t_\t_\n",
      "8\tвас\tВЫ\tPRON\tPRP\tCase=Acc|Number=Plur|Person=2\t2\tnmod\t_\t_\n",
      "9\tиз\tИЗ\tADP\tIN\t_\t10\tcase\t_\t_\n",
      "10\tтолпы\tтолпы\tNOUN\tNN\tAnimacy=Inan|Case=Gen|Gender=Fem|Number=Sing\t2\tnmod\t_\tSpacesAfter=\\n\n",
      "\n",
      "\n"
     ]
    }
   ],
   "source": [
    "ex = 'А броско, шикарно и выделяля бы вас из толпы'\n",
    "print(pipeline.process(ex))"
   ]
  },
  {
   "cell_type": "markdown",
   "metadata": {},
   "source": [
    "Напишите функцию, которая помогает обнаруживать парцелляцию, опираясь на то, что предложение неполное:"
   ]
  },
  {
   "cell_type": "code",
   "execution_count": null,
   "metadata": {},
   "outputs": [],
   "source": []
  },
  {
   "cell_type": "markdown",
   "metadata": {},
   "source": [
    "А теперь давайте усложним критерий на однородные члены: проверим, не состоит ли предложение из большого числа однородных предложений. Для этого проверим, являются ли однородные члены глаголами."
   ]
  },
  {
   "cell_type": "code",
   "execution_count": null,
   "metadata": {},
   "outputs": [],
   "source": []
  },
  {
   "cell_type": "markdown",
   "metadata": {},
   "source": [
    "Придумайте метрику для оценки качества предложений на основе написаных функций. Напишите функцию-оцениватель. Пусть она принимает на вход предложение, а возвращает оценку от 1 до 10."
   ]
  },
  {
   "cell_type": "code",
   "execution_count": null,
   "metadata": {},
   "outputs": [],
   "source": [
    "def get_score(sentence):\n",
    "    # your code here\n",
    "    return score"
   ]
  },
  {
   "cell_type": "markdown",
   "metadata": {},
   "source": [
    "Если осталось время, придумайте и напишите свою функцию, которая помогала бы оценивать качество текста. Добавьте её в метрику."
   ]
  },
  {
   "cell_type": "code",
   "execution_count": null,
   "metadata": {},
   "outputs": [],
   "source": []
  }
 ],
 "metadata": {
  "kernelspec": {
   "display_name": "Python 3",
   "language": "python",
   "name": "python3"
  },
  "language_info": {
   "codemirror_mode": {
    "name": "ipython",
    "version": 3
   },
   "file_extension": ".py",
   "mimetype": "text/x-python",
   "name": "python",
   "nbconvert_exporter": "python",
   "pygments_lexer": "ipython3",
   "version": "3.5.2"
  }
 },
 "nbformat": 4,
 "nbformat_minor": 2
}
