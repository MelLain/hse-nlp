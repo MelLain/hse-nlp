{
 "cells": [
  {
   "cell_type": "markdown",
   "metadata": {},
   "source": [
    "# Depencency parsing\n",
    "(парсинг зависимостей)\n",
    "\n",
    "## Что это?\n",
    "\n",
    "* наша цель -- представить предложение естественного языка в виде дерева\n",
    "* слова предложения -- вершины; *зависимости (dependencies)* между ними -- рёбра\n",
    "* зависимости могут быть разными: например, субъект глагола, объект глагола, прилагательное-модификатор, и так далее\n",
    "\n",
    "## Формат\n",
    "\n",
    "Существует несколько форматов записи деревьев зависимостей, но самый популярный и общеиспользуемый -- [CoNLL-U](http://universaldependencies.org/format.html).<br/>\n",
    "Как это выглядит (пример из [русского Universal Dependency трибанка](https://github.com/UniversalDependencies/UD_Russian-SynTagRus)):"
   ]
  },
  {
   "cell_type": "code",
   "execution_count": 1,
   "metadata": {},
   "outputs": [],
   "source": [
    "my_example = \"\"\"\n",
    "# sent_id = 2003Armeniya.xml_138\n",
    "# text = Перспективы развития сферы высоких технологий.\n",
    "1\tПерспективы\tперспектива\tNOUN\t_\tAnimacy=Inan|Case=Nom|Gender=Fem|Number=Plur\t0\troot\t0:root\t_\n",
    "2\tразвития\tразвитие\tNOUN\t_\tAnimacy=Inan|Case=Gen|Gender=Neut|Number=Sing\t1\tnmod\t1:nmod\t_\n",
    "3\tсферы\tсфера\tNOUN\t_\tAnimacy=Inan|Case=Gen|Gender=Fem|Number=Sing\t2\tnmod\t2:nmod\t_\n",
    "4\tвысоких\tвысокий\tADJ\t_\tCase=Gen|Degree=Pos|Number=Plur\t5\tamod\t5:amod\t_\n",
    "5\tтехнологий\tтехнология\tNOUN\t_\tAnimacy=Inan|Case=Gen|Gender=Fem|Number=Plur\t3\tnmod\t3:nmod\tSpaceAfter=No\n",
    "6\t.\t.\tPUNCT\t_\t_\t1\tpunct\t1:punct\t_\n",
    "\"\"\""
   ]
  },
  {
   "cell_type": "markdown",
   "metadata": {},
   "source": [
    "Комментарии + таблица c 9 колонками (разделители табы):\n",
    "* ID\n",
    "* FORM: токен\n",
    "* LEMMA: начальная форма\n",
    "* UPOS: универсальная часть речи\n",
    "* XPOS: лингво-специфичная часть речи\n",
    "* FEATS: морфологическая информация: падеж, род, число etc\n",
    "* HEAD: id ролителя\n",
    "* DEPREL: тип зависимости, то есть отношение к токену-родителю\n",
    "* DEPS: альтернативный подграф (не будем углубляться :))\n",
    "* MISC: всё остальное\n",
    "\n",
    "Отсутствующие данные представляются с помощью `_`. Больше подробностей про формат -- в [официальной документаци](http://universaldependencies.org/format.html).<br>\n",
    "User-friendly визуализация: ![2003Armeniya.xml_138](rus_tree.png)\n",
    "\n",
    "Отрытый инструмент для визуализации, ручной разметки и конвертации в другие форматы: UD Annotatrix. [Online-интерфейс](https://maryszmary.github.io/ud-annotatrix/standalone/annotator.html), [репозиторий](https://github.com/jonorthwash/ud-annotatrix).\n",
    "\n",
    "Трибанк -- много таких предложений. Обычно они разделяются двумя переносами строки.\n",
    "### Как считывать данные в питоне\n",
    "\n",
    "Используем библиотеку [conllu](https://github.com/EmilStenstrom/conllu)."
   ]
  },
  {
   "cell_type": "code",
   "execution_count": 2,
   "metadata": {},
   "outputs": [
    {
     "name": "stdout",
     "output_type": "stream",
     "text": [
      "Requirement already satisfied: conllu in /usr/local/lib/python3.5/dist-packages (0.9)\r\n"
     ]
    }
   ],
   "source": [
    "!pip3 install conllu\n",
    "from conllu import parse"
   ]
  },
  {
   "cell_type": "code",
   "execution_count": 3,
   "metadata": {},
   "outputs": [
    {
     "name": "stdout",
     "output_type": "stream",
     "text": [
      "Help on function parse in module conllu.parser:\n",
      "\n",
      "parse(text, fields=('id', 'form', 'lemma', 'upostag', 'xpostag', 'feats', 'head', 'deprel', 'deps', 'misc'))\n",
      "\n"
     ]
    }
   ],
   "source": [
    "help(parse)"
   ]
  },
  {
   "cell_type": "code",
   "execution_count": 4,
   "metadata": {},
   "outputs": [
    {
     "data": {
      "text/plain": [
       "OrderedDict([('id', 1),\n",
       "             ('form', 'Перспективы'),\n",
       "             ('lemma', 'перспектива'),\n",
       "             ('upostag', 'NOUN'),\n",
       "             ('xpostag', None),\n",
       "             ('feats',\n",
       "              OrderedDict([('Animacy', 'Inan'),\n",
       "                           ('Case', 'Nom'),\n",
       "                           ('Gender', 'Fem'),\n",
       "                           ('Number', 'Plur')])),\n",
       "             ('head', 0),\n",
       "             ('deprel', 'root'),\n",
       "             ('deps', [('root', 0)]),\n",
       "             ('misc', None)])"
      ]
     },
     "execution_count": 4,
     "metadata": {},
     "output_type": "execute_result"
    }
   ],
   "source": [
    "sentences = parse(my_example)\n",
    "sentence = sentences[0]\n",
    "sentence[0]"
   ]
  },
  {
   "cell_type": "code",
   "execution_count": 5,
   "metadata": {},
   "outputs": [
    {
     "data": {
      "text/plain": [
       "OrderedDict([('id', 6),\n",
       "             ('form', '.'),\n",
       "             ('lemma', '.'),\n",
       "             ('upostag', 'PUNCT'),\n",
       "             ('xpostag', None),\n",
       "             ('feats', None),\n",
       "             ('head', 1),\n",
       "             ('deprel', 'punct'),\n",
       "             ('deps', [('punct', 1)]),\n",
       "             ('misc', None)])"
      ]
     },
     "execution_count": 5,
     "metadata": {},
     "output_type": "execute_result"
    }
   ],
   "source": [
    "sentence[-1]"
   ]
  },
  {
   "cell_type": "markdown",
   "metadata": {},
   "source": [
    "## UDPipe\n",
    "\n",
    "Есть разные инструменты для парсинга зависимостей. Сегодня мы будем рабтать с [UDPipe](http://ufal.mff.cuni.cz/udpipe). UDPipe умеет парсить текст с помощью готовых моделей (которые можно скачать с ...) и обучать модели на своих трибанках.\n",
    "\n",
    "Собственно, в UDPipe есть три вида моделей:\n",
    "* токенизатор (разделить предложение не токены, сделать заготовку для CoNLL-U)\n",
    "* тэггер (разметить части речи)\n",
    "* сам парсер (проставить каждому токену `head` и `deprel`)\n",
    "\n",
    "Мы сегодня не будем обучать новых моделей (это слишком долго), а используем готовую модель для русского."
   ]
  },
  {
   "cell_type": "markdown",
   "metadata": {},
   "source": [
    "### The Python binding\n",
    "\n",
    "У udpipe есть питоновская обвязка. Она довольно [плохо задокументирована](https://pypi.org/project/ufal.udpipe/), но зато можно использовать прямо в питоне :)"
   ]
  },
  {
   "cell_type": "code",
   "execution_count": 6,
   "metadata": {},
   "outputs": [
    {
     "name": "stdout",
     "output_type": "stream",
     "text": [
      "Requirement already satisfied: ufal.udpipe in /usr/local/lib/python3.5/dist-packages (1.2.0.1)\r\n"
     ]
    }
   ],
   "source": [
    "!pip3 install ufal.udpipe\n",
    "from ufal.udpipe import Model, Pipeline"
   ]
  },
  {
   "cell_type": "code",
   "execution_count": 10,
   "metadata": {},
   "outputs": [],
   "source": [
    "model = Model.load(\"russian-ud-2.0-170801.udpipe\") # path to the model"
   ]
  },
  {
   "cell_type": "code",
   "execution_count": 11,
   "metadata": {},
   "outputs": [
    {
     "data": {
      "text/plain": [
       "False"
      ]
     },
     "execution_count": 11,
     "metadata": {},
     "output_type": "execute_result"
    }
   ],
   "source": [
    "# если успех, должно быть так\n",
    "model is None"
   ]
  },
  {
   "cell_type": "code",
   "execution_count": 36,
   "metadata": {},
   "outputs": [
    {
     "name": "stdout",
     "output_type": "stream",
     "text": [
      "# newdoc\n",
      "# newpar\n",
      "# sent_id = 1\n",
      "# text = Если бы мне платили каждый раз.\n",
      "1\tЕсли\tЕСЛИ\tSCONJ\tIN\t_\t4\tmark\t_\t_\n",
      "2\tбы\tБЫ\tPART\tRP\t_\t4\tdiscourse\t_\t_\n",
      "3\tмне\tЯ\tPRON\tPRP\tCase=Dat|Number=Sing|Person=1\t4\tiobj\t_\t_\n",
      "4\tплатили\tПЛАТИТЬ\tVERB\tVBC\tAspect=Imp|Mood=Ind|Number=Plur|Tense=Past|VerbForm=Fin\t0\troot\t_\t_\n",
      "5\tкаждый\tКАЖДЫЙ\tDET\tDT\tAnimacy=Inan|Case=Acc|Gender=Masc|Number=Sing\t6\tamod\t_\t_\n",
      "6\tраз\tРАЗ\tNOUN\tNN\tAnimacy=Inan|Case=Acc|Gender=Masc|Number=Sing\t4\tadvmod\t_\tSpaceAfter=No\n",
      "7\t.\t.\tPUNCT\t.\t_\t4\tpunct\t_\t_\n",
      "\n",
      "# sent_id = 2\n",
      "# text = Каждый раз, когда я думаю о тебе.\n",
      "1\tКаждый\tКАЖДЫЙ\tDET\tDT\tAnimacy=Inan|Case=Acc|Gender=Masc|Number=Sing\t2\tamod\t_\t_\n",
      "2\tраз\tРАЗ\tNOUN\tNN\tAnimacy=Inan|Case=Acc|Gender=Masc|Number=Sing\t6\tadvmod\t_\tSpaceAfter=No\n",
      "3\t,\t,\tPUNCT\t,\t_\t6\tpunct\t_\t_\n",
      "4\tкогда\tКОГДА\tADV\tWRB\t_\t6\tadvmod\t_\t_\n",
      "5\tя\tЯ\tPRON\tPRP\tCase=Nom|Number=Sing|Person=1\t6\tnsubj\t_\t_\n",
      "6\tдумаю\tдУМАТЬ\tVERB\tVBC\tAspect=Imp|Mood=Ind|Number=Sing|Person=1|Tense=Pres|VerbForm=Fin\t0\troot\t_\t_\n",
      "7\tо\tО\tADP\tIN\t_\t8\tcase\t_\t_\n",
      "8\tтебе\tТЫ\tPRON\tPRP\tCase=Dat|Number=Sing|Person=2\t6\tobl\t_\tSpaceAfter=No\n",
      "9\t.\t.\tPUNCT\t.\t_\t6\tpunct\t_\tSpacesAfter=\\n\n",
      "\n",
      "\n"
     ]
    }
   ],
   "source": [
    "pipeline = Pipeline(model, 'generic_tokenizer', '', '', '')\n",
    "example = \"Если бы мне платили каждый раз. Каждый раз, когда я думаю о тебе.\"\n",
    "parsed = pipeline.process(example)\n",
    "print(parsed)"
   ]
  },
  {
   "cell_type": "markdown",
   "metadata": {},
   "source": [
    "Как видим, UDPipe и токенизировал, и лематизировал текст, сделал POS-tagging и, собственно, синтаксический парсинг."
   ]
  },
  {
   "cell_type": "markdown",
   "metadata": {},
   "source": [
    "### Command line interface\n",
    "\n",
    "Но с обвязкой бывают проблемы, и вообще довольно удобно пользоваться прекомпилированной утилитой `udpipe` из шелла. Она скачивается [здесь](https://github.com/ufal/udpipe/releases/tag/v1.2.0): (надеюсь, вы уже скачали всё заранее).<br>Внутри бинарники для всех популярных ОС, выбираем свою. У меня путь к бинарнику такой: `~/Documents/udpipe-1.2.0-bin/bin-linux64`.\n",
    "\n",
    "Синтаксис:"
   ]
  },
  {
   "cell_type": "code",
   "execution_count": 8,
   "metadata": {},
   "outputs": [
    {
     "name": "stdout",
     "output_type": "stream",
     "text": [
      "Usage: udpipe [running_opts] model_file [input_files]\r\n",
      "       udpipe --train [training_opts] model_file [input_files]\r\n",
      "       udpipe --detokenize [detokenize_opts] raw_text_file [input_files]\r\n",
      "Running opts: --accuracy (measure accuracy only)\r\n",
      "              --input=[conllu|generic_tokenizer|horizontal|vertical]\r\n",
      "              --immediate (process sentences immediately during loading)\r\n",
      "              --outfile=output file template\r\n",
      "              --output=[conllu|epe|matxin|horizontal|plaintext|vertical]\r\n",
      "              --tokenize (perform tokenization)\r\n",
      "              --tokenizer=tokenizer options, implies --tokenize\r\n",
      "              --tag (perform tagging)\r\n",
      "              --tagger=tagger options, implies --tag\r\n",
      "              --parse (perform parsing)\r\n",
      "              --parser=parser options, implies --parse\r\n",
      "Training opts: --method=[morphodita_parsito] which method to use\r\n",
      "               --heldout=heldout data file name\r\n",
      "               --tokenizer=tokenizer options\r\n",
      "               --tagger=tagger options\r\n",
      "               --parser=parser options\r\n",
      "Detokenize opts: --outfile=output file template\r\n",
      "Generic opts: --version\r\n",
      "              --help\r\n"
     ]
    }
   ],
   "source": [
    "! udpipe"
   ]
  },
  {
   "cell_type": "markdown",
   "metadata": {},
   "source": [
    "Нас сегодня будет интересовать только парсинг, так что типичная команда будет выглядеть так:"
   ]
  },
  {
   "cell_type": "code",
   "execution_count": 27,
   "metadata": {},
   "outputs": [
    {
     "name": "stdout",
     "output_type": "stream",
     "text": [
      "Loading UDPipe model: done.\n",
      "# newdoc id = example.txt\n",
      "# newpar\n",
      "# sent_id = 1\n",
      "# text = Если бы мне платили каждый раз.\n",
      "1\tЕсли\tЕСЛИ\tSCONJ\tIN\t_\t4\tmark\t_\t_\n",
      "2\tбы\tБЫ\tPART\tRP\t_\t4\tdiscourse\t_\t_\n",
      "3\tмне\tЯ\tPRON\tPRP\tCase=Dat|Number=Sing|Person=1\t4\tiobj\t_\t_\n",
      "4\tплатили\tПЛАТИТЬ\tVERB\tVBC\tAspect=Imp|Mood=Ind|Number=Plur|Tense=Past|VerbForm=Fin\t0\troot\t_\t_\n",
      "5\tкаждый\tКАЖДЫЙ\tDET\tDT\tAnimacy=Inan|Case=Acc|Gender=Masc|Number=Sing\t6\tamod\t_\t_\n",
      "6\tраз\tРАЗ\tNOUN\tNN\tAnimacy=Inan|Case=Acc|Gender=Masc|Number=Sing\t4\tadvmod\t_\tSpaceAfter=No\n",
      "7\t.\t.\tPUNCT\t.\t_\t4\tpunct\t_\t_\n",
      "\n",
      "# sent_id = 2\n",
      "# text = Каждый раз, когда я думаю о тебе.\n",
      "1\tКаждый\tКАЖДЫЙ\tDET\tDT\tAnimacy=Inan|Case=Acc|Gender=Masc|Number=Sing\t2\tamod\t_\t_\n",
      "2\tраз\tРАЗ\tNOUN\tNN\tAnimacy=Inan|Case=Acc|Gender=Masc|Number=Sing\t6\tadvmod\t_\tSpaceAfter=No\n",
      "3\t,\t,\tPUNCT\t,\t_\t6\tpunct\t_\t_\n",
      "4\tкогда\tКОГДА\tADV\tWRB\t_\t6\tadvmod\t_\t_\n",
      "5\tя\tЯ\tPRON\tPRP\tCase=Nom|Number=Sing|Person=1\t6\tnsubj\t_\t_\n",
      "6\tдумаю\tдУМАТЬ\tVERB\tVBC\tAspect=Imp|Mood=Ind|Number=Sing|Person=1|Tense=Pres|VerbForm=Fin\t0\troot\t_\t_\n",
      "7\tо\tО\tADP\tIN\t_\t8\tcase\t_\t_\n",
      "8\tтебе\tТЫ\tPRON\tPRP\tCase=Dat|Number=Sing|Person=2\t6\tobl\t_\tSpaceAfter=No\n",
      "9\t.\t.\tPUNCT\t.\t_\t6\tpunct\t_\tSpacesAfter=\\n\n",
      "\n"
     ]
    }
   ],
   "source": [
    "with open('example.txt', 'w') as f:\n",
    "    f.write(example)\n",
    "\n",
    "! udpipe --tokenize --tag --parse russian-ud-2.0-170801.udpipe example.txt > parsed_example.conllu\n",
    "! cat parsed_example.conllu"
   ]
  },
  {
   "cell_type": "markdown",
   "metadata": {},
   "source": [
    "(Ну а потом снова считываем проанализированные предложения питоном).\n",
    "\n",
    "Вот два способа работать с UDPipe. Choose your fighter! "
   ]
  },
  {
   "cell_type": "markdown",
   "metadata": {},
   "source": [
    "## Главред\n",
    "\n",
    "Главред -- [сервис](https://glvrd.ru/) для корекции стиля текста. Кроме интерфейса, у него есть [API](https://glvrd.ru/api/)!<br>\n",
    "На этом семинаре мы имплементируем несколько функций, делающих нечто похожее, на основе синтаксиса.\n",
    "\n",
    "Возьмём простой пример: предложение, перегруженное однородными членами."
   ]
  },
  {
   "cell_type": "code",
   "execution_count": 41,
   "metadata": {},
   "outputs": [
    {
     "name": "stdout",
     "output_type": "stream",
     "text": [
      "# newdoc\n",
      "# newpar\n",
      "# sent_id = 1\n",
      "# text = Я пришла, включила компьютер, открыла почту, прочитала письмо, налила чай.\n",
      "1\tЯ\tЯ\tPRON\tPRP\tCase=Nom|Number=Sing|Person=1\t2\tnsubj\t_\t_\n",
      "2\tпришла\tприИДТИ\tVERB\tVBC\tAspect=Perf|Gender=Fem|Mood=Ind|Number=Sing|Tense=Past|VerbForm=Fin\t0\troot\t_\tSpaceAfter=No\n",
      "3\t,\t,\tPUNCT\t,\t_\t4\tpunct\t_\t_\n",
      "4\tвключила\tвключила\tVERB\tVBC\tAspect=Perf|Gender=Fem|Mood=Ind|Number=Sing|Tense=Past|VerbForm=Fin\t2\tconj\t_\t_\n",
      "5\tкомпьютер\tкомпьютер\tNOUN\tNN\tAnimacy=Anim|Case=Gen|Gender=Fem|Number=Plur\t4\tobj\t_\tSpaceAfter=No\n",
      "6\t,\t,\tPUNCT\t,\t_\t7\tpunct\t_\t_\n",
      "7\tоткрыла\tоткрЫТЬ\tVERB\tVBC\tAspect=Imp|Gender=Fem|Mood=Ind|Number=Sing|Tense=Past|VerbForm=Fin\t4\tconj\t_\t_\n",
      "8\tпочту\tпочТОТ\tNOUN\tNN\tAnimacy=Inan|Case=Acc|Gender=Fem|Number=Sing\t7\tobj\t_\tSpaceAfter=No\n",
      "9\t,\t,\tPUNCT\t,\t_\t10\tpunct\t_\t_\n",
      "10\tпрочитала\tпрочитала\tVERB\tVBC\tAspect=Imp|Gender=Fem|Mood=Ind|Number=Sing|Tense=Past|VerbForm=Fin\t2\tconj\t_\t_\n",
      "11\tписьмо\tПИСЬМО\tNOUN\tNN\tAnimacy=Inan|Case=Acc|Gender=Neut|Number=Sing\t10\tobj\t_\tSpaceAfter=No\n",
      "12\t,\t,\tPUNCT\t,\t_\t13\tpunct\t_\t_\n",
      "13\tналила\tнАЛИЛА\tVERB\tVBC\tAspect=Imp|Gender=Fem|Mood=Ind|Number=Sing|Tense=Past|VerbForm=Fin\t2\tconj\t_\t_\n",
      "14\tчай\tЧАЙ\tNOUN\tNN\tAnimacy=Inan|Case=Acc|Gender=Masc|Number=Sing\t13\tobj\t_\tSpaceAfter=No\n",
      "15\t.\t.\tPUNCT\t.\t_\t2\tpunct\t_\tSpacesAfter=\\n\n",
      "\n",
      "\n"
     ]
    }
   ],
   "source": [
    "conj = 'Я пришла, включила компьютер, открыла почту, прочитала письмо, налила чай.'\n",
    "print(pipeline.process(conj))"
   ]
  },
  {
   "cell_type": "markdown",
   "metadata": {},
   "source": [
    "В таком случае очень много частей предложения, соединённых связью `conj` -- ей обозначаются однородные члены предложения. В таком случае можно просто посчитать количество таких связей:"
   ]
  },
  {
   "cell_type": "code",
   "execution_count": null,
   "metadata": {},
   "outputs": [],
   "source": [
    "def count_conj(sentence):\n",
    "    # your code here"
   ]
  },
  {
   "cell_type": "markdown",
   "metadata": {},
   "source": [
    "Ещё одна проблема, на которую обращают внимание в Главреде -- [парцелляция](http://maximilyahov.ru/blog/all/parcel/). Часто она делает предложения менее читаемыми."
   ]
  },
  {
   "cell_type": "code",
   "execution_count": 44,
   "metadata": {},
   "outputs": [
    {
     "name": "stdout",
     "output_type": "stream",
     "text": [
      "# newdoc\n",
      "# newpar\n",
      "# sent_id = 1\n",
      "# text = Включил компьютер и заснул.\n",
      "1\tВключил\tВКЛЮЧИТЬ\tVERB\tVBC\tAspect=Perf|Gender=Masc|Mood=Ind|Number=Sing|Tense=Past|VerbForm=Fin\t0\troot\t_\t_\n",
      "2\tкомпьютер\tкомпьютер\tNOUN\tNN\tAnimacy=Inan|Case=Acc|Gender=Masc|Number=Sing\t1\tobj\t_\t_\n",
      "3\tи\tИ\tCCONJ\tCC\t_\t4\tcc\t_\t_\n",
      "4\tзаснул\tзаснУЛ\tVERB\tVBC\tAspect=Perf|Gender=Masc|Mood=Ind|Number=Sing|Tense=Past|VerbForm=Fin\t1\tconj\t_\tSpaceAfter=No\n",
      "5\t.\t.\tPUNCT\t.\t_\t1\tpunct\t_\tSpacesAfter=\\n\n",
      "\n",
      "\n"
     ]
    }
   ],
   "source": [
    "ex = 'Включил компьютер и заснул.'\n",
    "print(pipeline.process(ex))"
   ]
  },
  {
   "cell_type": "markdown",
   "metadata": {},
   "source": [
    "Напишите функцию, которая помогает обнаруживать парцелляцию:"
   ]
  },
  {
   "cell_type": "code",
   "execution_count": null,
   "metadata": {},
   "outputs": [],
   "source": []
  },
  {
   "cell_type": "markdown",
   "metadata": {},
   "source": [
    "А теперь придумайте и напишите проверку на свой критерий, который тоже может говорить что-то о качестве текста:"
   ]
  },
  {
   "cell_type": "code",
   "execution_count": null,
   "metadata": {},
   "outputs": [],
   "source": []
  },
  {
   "cell_type": "markdown",
   "metadata": {},
   "source": [
    "Придумайте метрику для оценки качества предложений на основе написаных функций. Напишите функцию-оцениватель. Пусть она принимает на вход предложение, а возвращает оценку от 1 до 10."
   ]
  },
  {
   "cell_type": "code",
   "execution_count": null,
   "metadata": {},
   "outputs": [],
   "source": [
    "def get_score(sentence):\n",
    "    # your code here\n",
    "    return score"
   ]
  }
 ],
 "metadata": {
  "kernelspec": {
   "display_name": "Python 3",
   "language": "python",
   "name": "python3"
  },
  "language_info": {
   "codemirror_mode": {
    "name": "ipython",
    "version": 3
   },
   "file_extension": ".py",
   "mimetype": "text/x-python",
   "name": "python",
   "nbconvert_exporter": "python",
   "pygments_lexer": "ipython3",
   "version": "3.5.2"
  }
 },
 "nbformat": 4,
 "nbformat_minor": 2
}
