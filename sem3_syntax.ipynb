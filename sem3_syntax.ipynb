{
 "cells": [
  {
   "cell_type": "markdown",
   "metadata": {},
   "source": [
    "# Depencency parsing\n",
    "(парсинг зависимостей)\n",
    "\n",
    "## Что это?\n",
    "\n",
    "* наша цель -- представить предложение естественного языка в виде дерева\n",
    "* слова предложения -- вершины; *зависимости (dependencies)* между ними -- рёбра\n",
    "* зависимости могут быть разными: например, субъект глагола, объект глагола, прилагательное-модификатор, и так далее\n",
    "\n",
    "## Формат\n",
    "\n",
    "Существует несколько форматов записи деревьев зависимостей, но самый популярный и общеиспользуемый -- [CoNLL-U](http://universaldependencies.org/format.html).<br/>\n",
    "Как это выглядит (пример из [русского Universal Dependency трибанка](https://github.com/UniversalDependencies/UD_Russian-SynTagRus)):"
   ]
  },
  {
   "cell_type": "code",
   "execution_count": 26,
   "metadata": {},
   "outputs": [],
   "source": [
    "my_example = \"\"\"\n",
    "# sent_id = 2003Armeniya.xml_138\n",
    "# text = Перспективы развития сферы высоких технологий.\n",
    "1\tПерспективы\tперспектива\tNOUN\t_\tAnimacy=Inan|Case=Nom|Gender=Fem|Number=Plur\t0\troot\t0:root\t_\n",
    "2\tразвития\tразвитие\tNOUN\t_\tAnimacy=Inan|Case=Gen|Gender=Neut|Number=Sing\t1\tnmod\t1:nmod\t_\n",
    "3\tсферы\tсфера\tNOUN\t_\tAnimacy=Inan|Case=Gen|Gender=Fem|Number=Sing\t2\tnmod\t2:nmod\t_\n",
    "4\tвысоких\tвысокий\tADJ\t_\tCase=Gen|Degree=Pos|Number=Plur\t5\tamod\t5:amod\t_\n",
    "5\tтехнологий\tтехнология\tNOUN\t_\tAnimacy=Inan|Case=Gen|Gender=Fem|Number=Plur\t3\tnmod\t3:nmod\tSpaceAfter=No\n",
    "6\t.\t.\tPUNCT\t_\t_\t1\tpunct\t1:punct\t_\n",
    "\"\"\""
   ]
  },
  {
   "cell_type": "markdown",
   "metadata": {},
   "source": [
    "Комментарии + таблица c 9 колонками (разделители табы):\n",
    "* ID\n",
    "* FORM: токен\n",
    "* LEMMA: начальная форма\n",
    "* UPOS: универсальная часть речи\n",
    "* XPOS: лингво-специфичная часть речи\n",
    "* FEATS: морфологическая информация: падеж, род, число etc\n",
    "* HEAD: id ролителя\n",
    "* DEPREL: тип зависимости, то есть отношение к токену-родителю\n",
    "* DEPS: альтернативный подграф (не будем углубляться :))\n",
    "* MISC: всё остальное\n",
    "\n",
    "Отсутствующие данные представляются с помощью `_`. Больше подробностей про формат -- в [официальной документаци](http://universaldependencies.org/format.html).<br>\n",
    "User-friendly визуализация: ![2003Armeniya.xml_138](rus_tree.png)\n",
    "\n",
    "Отрытый инструмент для визуализации, ручной разметки и конвертации в другие форматы: UD Annotatrix. [Online-интерфейс](https://maryszmary.github.io/ud-annotatrix/standalone/annotator.html), [репозиторий](https://github.com/jonorthwash/ud-annotatrix).\n",
    "\n",
    "Трибанк -- много таких предложений. Обычно они разделяются двумя переносами строки.\n",
    "### Как считывать данные в питоне\n",
    "\n",
    "Используем библиотеку [conllu](https://github.com/EmilStenstrom/conllu)."
   ]
  },
  {
   "cell_type": "code",
   "execution_count": 66,
   "metadata": {},
   "outputs": [
    {
     "name": "stdout",
     "output_type": "stream",
     "text": [
      "Requirement already satisfied: conllu in /usr/local/lib/python3.5/dist-packages (0.9)\r\n"
     ]
    }
   ],
   "source": [
    "!pip3 install conllu\n",
    "from conllu import parse"
   ]
  },
  {
   "cell_type": "code",
   "execution_count": 67,
   "metadata": {},
   "outputs": [
    {
     "name": "stdout",
     "output_type": "stream",
     "text": [
      "Help on function parse in module conllu.parser:\n",
      "\n",
      "parse(text, fields=('id', 'form', 'lemma', 'upostag', 'xpostag', 'feats', 'head', 'deprel', 'deps', 'misc'))\n",
      "\n"
     ]
    }
   ],
   "source": [
    "help(parse)"
   ]
  },
  {
   "cell_type": "code",
   "execution_count": 68,
   "metadata": {},
   "outputs": [
    {
     "data": {
      "text/plain": [
       "OrderedDict([('id', 1),\n",
       "             ('form', 'Перспективы'),\n",
       "             ('lemma', 'перспектива'),\n",
       "             ('upostag', 'NOUN'),\n",
       "             ('xpostag', None),\n",
       "             ('feats',\n",
       "              OrderedDict([('Animacy', 'Inan'),\n",
       "                           ('Case', 'Nom'),\n",
       "                           ('Gender', 'Fem'),\n",
       "                           ('Number', 'Plur')])),\n",
       "             ('head', 0),\n",
       "             ('deprel', 'root'),\n",
       "             ('deps', [('root', 0)]),\n",
       "             ('misc', None)])"
      ]
     },
     "execution_count": 68,
     "metadata": {},
     "output_type": "execute_result"
    }
   ],
   "source": [
    "sentences = parse(my_example)\n",
    "sentence = sentences[0]\n",
    "sentence[0]"
   ]
  },
  {
   "cell_type": "code",
   "execution_count": 61,
   "metadata": {},
   "outputs": [
    {
     "data": {
      "text/plain": [
       "OrderedDict([('id', 6),\n",
       "             ('form', '.'),\n",
       "             ('lemma', '.'),\n",
       "             ('upostag', 'PUNCT'),\n",
       "             ('xpostag', None),\n",
       "             ('feats', None),\n",
       "             ('head', 1),\n",
       "             ('deprel', 'punct'),\n",
       "             ('deps', [('punct', 1)]),\n",
       "             ('misc', None)])"
      ]
     },
     "execution_count": 61,
     "metadata": {},
     "output_type": "execute_result"
    }
   ],
   "source": [
    "sentence[-1]"
   ]
  },
  {
   "cell_type": "markdown",
   "metadata": {},
   "source": [
    "## UDPipe\n",
    "\n",
    "Есть разные инструменты для парсинга зависимостей. Сегодня мы будем рабтать с [UDPipe](http://ufal.mff.cuni.cz/udpipe). UDPipe умеет парсить текст с помощью готовых моделей (которые можно скачать с ...) и обучать модели на своих трибанках.\n",
    "\n",
    "Собственно, в UDPipe есть три вида моделей:\n",
    "* токенизатор (разделить предложение не токены, сделать заготовку для CoNLL-U)\n",
    "* тэггер (разметить части речи)\n",
    "* сам парсер (проставить каждому токену `head` и `deprel`)\n",
    "\n",
    "Мы сегодня не будем обучать новых моделей (это слишком долго), а используем готовую модель для русского."
   ]
  },
  {
   "cell_type": "markdown",
   "metadata": {},
   "source": [
    "### The Python binding\n",
    "\n",
    "У udpipe есть питоновская обвязка. Она довольно [плохо задокументирована](https://pypi.org/project/ufal.udpipe/), но зато можно использовать прямо в питоне :)"
   ]
  },
  {
   "cell_type": "code",
   "execution_count": 70,
   "metadata": {},
   "outputs": [
    {
     "name": "stdout",
     "output_type": "stream",
     "text": [
      "Requirement already satisfied: ufal.udpipe in /usr/local/lib/python3.5/dist-packages (1.2.0.1)\r\n"
     ]
    }
   ],
   "source": [
    "!pip3 install ufal.udpipe\n",
    "from ufal.udpipe import Model, Pipeline"
   ]
  },
  {
   "cell_type": "code",
   "execution_count": 52,
   "metadata": {},
   "outputs": [],
   "source": [
    "model = Model.load(\"/home/maryszmary/Documents/cross-lingual-parsing/utils/models/combined_11K\") # path to the model"
   ]
  },
  {
   "cell_type": "code",
   "execution_count": 54,
   "metadata": {},
   "outputs": [
    {
     "data": {
      "text/plain": [
       "False"
      ]
     },
     "execution_count": 54,
     "metadata": {},
     "output_type": "execute_result"
    }
   ],
   "source": [
    "# если успех, должно быть так\n",
    "model is None"
   ]
  },
  {
   "cell_type": "code",
   "execution_count": 74,
   "metadata": {},
   "outputs": [
    {
     "name": "stdout",
     "output_type": "stream",
     "text": [
      "# newdoc\n",
      "# newpar\n",
      "# sent_id = 1\n",
      "# text = Í 1957 verður Útvarp Føroya stovnað.\n",
      "1\tÍ\t_\tADP\t_\t_\t3\tcase\t_\t_\n",
      "2\t1957\t1957\tNUM\t_\t_\t3\tnummod\t_\t_\n",
      "3\tverður\t_\tNOUN\t_\t_\t4\tnmod\t_\t_\n",
      "4\tÚtvarp\t_\tPROPN\t_\t_\t6\tnsubj\t_\t_\n",
      "5\tFøroya\t_\tPROPN\t_\t_\t4\tflat:name\t_\t_\n",
      "6\tstovnað\t_\tVERB\t_\t_\t0\troot\t_\tSpaceAfter=No\n",
      "7\t.\t_\tPUNCT\t_\t_\t6\tpunct\t_\tSpacesAfter=\\n\n",
      "\n",
      "\n"
     ]
    }
   ],
   "source": [
    "ppln = Pipeline(model, 'generic_tokenizer', '', '', '')\n",
    "far = \"Í 1957 verður Útvarp Føroya stovnað.\"\n",
    "print(ppln.process(far))"
   ]
  },
  {
   "cell_type": "markdown",
   "metadata": {},
   "source": [
    "### Command line interface\n",
    "\n",
    "Но с обвязкой бывают проблемы, и вообще довольно удобно пользоваться прекомпилированной утилитой `udpipe` из шелла. Она скачивается здесь: https://github.com/ufal/udpipe/releases/tag/v1.2.0 (надеюсь, вы уже скачали всё заранее).<br>Внутри бинарники для всех популярных ОС, выбираем свою. У меня путь к бинарнику такой: `udpipe-1.2.0-bin/bin-linux64/udpipe`."
   ]
  },
  {
   "cell_type": "code",
   "execution_count": null,
   "metadata": {},
   "outputs": [],
   "source": []
  },
  {
   "cell_type": "markdown",
   "metadata": {},
   "source": [
    "## Главред\n",
    "\n",
    "Главред -- [сервис](https://glvrd.ru/) для корекции стиля текста. У него даже есть [API]()!<br>\n",
    "На этом семинаре мы имплементируем часть его синтаксических функций."
   ]
  },
  {
   "cell_type": "code",
   "execution_count": null,
   "metadata": {},
   "outputs": [],
   "source": []
  },
  {
   "cell_type": "markdown",
   "metadata": {},
   "source": [
    "А теперь напишите кастомную функцию, которая "
   ]
  },
  {
   "cell_type": "code",
   "execution_count": null,
   "metadata": {},
   "outputs": [],
   "source": []
  }
 ],
 "metadata": {
  "kernelspec": {
   "display_name": "Python 3",
   "language": "python",
   "name": "python3"
  },
  "language_info": {
   "codemirror_mode": {
    "name": "ipython",
    "version": 3
   },
   "file_extension": ".py",
   "mimetype": "text/x-python",
   "name": "python",
   "nbconvert_exporter": "python",
   "pygments_lexer": "ipython3",
   "version": "3.5.2"
  }
 },
 "nbformat": 4,
 "nbformat_minor": 2
}
